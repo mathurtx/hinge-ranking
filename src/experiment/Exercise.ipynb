{
 "cells": [
  {
   "cell_type": "markdown",
   "metadata": {
    "collapsed": true
   },
   "source": [
    "Objective : To rank the likelihoods of a given player for liking a set of subjects\n",
    "\n",
    "Solution :\n",
    "\n",
    "We will follow the following approaches:\n",
    "\n",
    "Pre-Processing :\n",
    "- Find median likes per user in the complete dataset\n",
    "- Find median likes for player gender orientation\n",
    "- Find if player liked the first time and disliked the second time. \n",
    "- Find if the player disliked the first and liked the first time.\n",
    "- Find the average age at which the player likes the most\n",
    "- Find the average distant at which the player likes the most grouped by the player metro\n",
    "\n",
    "The data is divided into training and test-set:\n",
    "Since the data is in a chronological order, we select the first 80% of the data for training set and the remaining 20% for testing set.\n",
    "\n",
    "Approach 1:\n",
    "-Use Ridge Regression to get baseline performance.\n",
    "-Log loss as loss function\n",
    "-Evaluate using cross-validation\n",
    "-Use MAP, CG\n",
    "\n",
    "Approach 2:\n",
    "-Use Matrix Factorization techniques to get user, subject matrix\n",
    "-Calculate the likelihoods for each player\n",
    "-Use logistic loss function\n",
    "-Calculate MAP, CG\n",
    "\n",
    "-Approach 3:\n",
    "-Use Matrix Factorization to get user and item vector\n",
    "-Concatenate the other attributes with the user vector\n",
    "-Pass into a feed forward network\n",
    "-Use binary_crossentropy \n",
    "-Use MAP, CG\n"
   ]
  },
  {
   "cell_type": "code",
   "execution_count": 5,
   "metadata": {
    "collapsed": true
   },
   "outputs": [],
   "source": [
    "#Add all the imports here\n",
    "import pandas as pd\n",
    "import matplotlib.pyplot as plt"
   ]
  },
  {
   "cell_type": "markdown",
   "metadata": {
    "collapsed": true
   },
   "source": [
    "Pre-processing"
   ]
  },
  {
   "cell_type": "code",
   "execution_count": 56,
   "metadata": {
    "collapsed": false
   },
   "outputs": [],
   "source": [
    "class Preprocessing(object):\n",
    "    def __init__(self):\n",
    "        self.data = None\n",
    "        self.median_for_dataset = 0\n",
    "        self.count_per_user = None\n",
    "        self.unique_user_count = 0\n",
    "        \n",
    "    def read_data(self,filename):\n",
    "        data = pd.read_csv(filename, sep='\\t')\n",
    "        self.data = data\n",
    "\n",
    "    def find_likes_per_player(self):\n",
    "        count = self.data.groupby(['player_id'])['like'].count()\n",
    "#         print(count)\n",
    "    \n",
    "    def find_unique_players_count(self):\n",
    "        unique = self.data['player_id'].unique()\n",
    "        self.unique_user_count = unique.shape[0]\n",
    "    \n",
    "    def median_player_likes(self):\n",
    "        pass\n",
    "    \n",
    "    def median_player_likes_per_player_orientation(self):\n",
    "        pass\n",
    "    \n",
    "    def positive_likes_per_player(self):\n",
    "        pass\n",
    "    \n",
    "    def find_like_to_dislike(self):\n",
    "        pass\n",
    "    \n",
    "    def find_dislike_to_like(self):\n",
    "        pass\n",
    "    \n",
    "    def average_subject_age_for_player(self):\n",
    "        pass\n",
    "    \n",
    "    def average_distance_by_metro(self):\n",
    "        pass"
   ]
  },
  {
   "cell_type": "code",
   "execution_count": 55,
   "metadata": {
    "collapsed": false
   },
   "outputs": [
    {
     "name": "stdout",
     "output_type": "stream",
     "text": [
      "2762\n"
     ]
    }
   ],
   "source": [
    "preProcessing = Preprocessing()\n",
    "preProcessing.read_data('../data/ratings_sample.tsv')\n",
    "preProcessing.find_count()\n",
    "preProcessing.find_unique_users_count()"
   ]
  },
  {
   "cell_type": "code",
   "execution_count": 46,
   "metadata": {
    "collapsed": false
   },
   "outputs": [
    {
     "ename": "TypeError",
     "evalue": "'DataFrame' object is not callable",
     "output_type": "error",
     "traceback": [
      "\u001b[0;31m---------------------------------------------------------------------------\u001b[0m",
      "\u001b[0;31mTypeError\u001b[0m                                 Traceback (most recent call last)",
      "\u001b[0;32m<ipython-input-46-1b67f3f55e4d>\u001b[0m in \u001b[0;36m<module>\u001b[0;34m()\u001b[0m\n\u001b[0;32m----> 1\u001b[0;31m \u001b[0mpreProcessing\u001b[0m\u001b[0;34m.\u001b[0m\u001b[0mcount_per_user\u001b[0m\u001b[0;34m(\u001b[0m\u001b[0;34m)\u001b[0m\u001b[0;34m.\u001b[0m\u001b[0mhead\u001b[0m\u001b[0;34m(\u001b[0m\u001b[0;36m5\u001b[0m\u001b[0;34m)\u001b[0m\u001b[0;34m\u001b[0m\u001b[0m\n\u001b[0m",
      "\u001b[0;31mTypeError\u001b[0m: 'DataFrame' object is not callable"
     ]
    }
   ],
   "source": [
    "preProcessing.count_per_user().head(5)"
   ]
  },
  {
   "cell_type": "code",
   "execution_count": null,
   "metadata": {
    "collapsed": false
   },
   "outputs": [],
   "source": [
    "player_likes= pd.DataFrame(player_likes)"
   ]
  },
  {
   "cell_type": "code",
   "execution_count": null,
   "metadata": {
    "collapsed": false
   },
   "outputs": [],
   "source": [
    "x = list(player_likes.index)\n",
    "y = list(player_likes['like'])"
   ]
  },
  {
   "cell_type": "code",
   "execution_count": null,
   "metadata": {
    "collapsed": false
   },
   "outputs": [],
   "source": [
    "median = player_likes['like'].median()"
   ]
  },
  {
   "cell_type": "code",
   "execution_count": null,
   "metadata": {
    "collapsed": false
   },
   "outputs": [],
   "source": [
    "mean = player_likes['like'].mean()"
   ]
  },
  {
   "cell_type": "code",
   "execution_count": null,
   "metadata": {
    "collapsed": false
   },
   "outputs": [],
   "source": [
    "print(median, mean)"
   ]
  },
  {
   "cell_type": "code",
   "execution_count": null,
   "metadata": {
    "collapsed": false
   },
   "outputs": [],
   "source": [
    "merged = pd.merge(data, data, left_on='subject_id', right_on='player_id', how='left')"
   ]
  },
  {
   "cell_type": "code",
   "execution_count": null,
   "metadata": {
    "collapsed": false
   },
   "outputs": [],
   "source": [
    "data.head(5)"
   ]
  },
  {
   "cell_type": "code",
   "execution_count": null,
   "metadata": {
    "collapsed": true
   },
   "outputs": [],
   "source": []
  }
 ],
 "metadata": {
  "kernelspec": {
   "display_name": "Python 3",
   "language": "python",
   "name": "python3"
  },
  "language_info": {
   "codemirror_mode": {
    "name": "ipython",
    "version": 3
   },
   "file_extension": ".py",
   "mimetype": "text/x-python",
   "name": "python",
   "nbconvert_exporter": "python",
   "pygments_lexer": "ipython3",
   "version": "3.6.0"
  }
 },
 "nbformat": 4,
 "nbformat_minor": 2
}
