{
 "cells": [
  {
   "cell_type": "markdown",
   "metadata": {
    "collapsed": true
   },
   "source": [
    "Objective : To rank the likelihoods of a given player for liking a set of subjects\n",
    "\n",
    "Solution :\n",
    "\n",
    "We will follow the following approaches:\n",
    "\n",
    "\n",
    "The data is divided into training and test-set:\n",
    "Since the data is in a chronological order, we select the first 80% of the data for training set and the remaining 20% for testing set.\n",
    "\n",
    "Facts about data:\n",
    "- Imbalanced dataset\n",
    "- About ~80% not likes\n",
    "\n",
    "Approach 1:\n",
    "-Use Logistic Regression to get baseline performance.\n",
    "-ROC_AUC as scoring\n",
    "-Evaluate using stratified cross-validation\n",
    "\n",
    "Approach 2:\n",
    "-Use XGBoost with Logistic Regression\n",
    "- ROC_AUC as scoring\n",
    "- Evaluate using stratified cross-validation\n"
   ]
  },
  {
   "cell_type": "code",
   "execution_count": 5,
   "metadata": {
    "collapsed": false
   },
   "outputs": [],
   "source": [
    "#Add all the imports here\n",
    "import numpy as np\n",
    "import pandas as pd\n",
    "from sklearn import pipeline, model_selection\n",
    "from sklearn.decomposition import TruncatedSVD\n",
    "from sklearn.metrics import mean_squared_error, make_scorer\n",
    "from sklearn.model_selection import train_test_split\n",
    "import random\n",
    "from sklearn import linear_model\n",
    "from sklearn.preprocessing import OneHotEncoder\n",
    "from sklearn.preprocessing import LabelEncoder\n",
    "import matplotlib.pyplot as plt\n",
    "from sklearn.metrics import log_loss\n",
    "from sklearn.linear_model import ElasticNet\n",
    "from sklearn.model_selection import cross_val_score\n",
    "from sklearn.model_selection import GridSearchCV\n",
    "from sklearn.pipeline import Pipeline\n",
    "from sklearn.linear_model import LassoCV\n",
    "from sklearn.model_selection import KFold\n",
    "from sklearn.model_selection import RandomizedSearchCV\n",
    "from scipy.stats import randint as sp_randint\n",
    "from sklearn import linear_model, decomposition"
   ]
  },
  {
   "cell_type": "markdown",
   "metadata": {},
   "source": [
    "<body>Set parameters for Grid Search and Constants</body>"
   ]
  },
  {
   "cell_type": "code",
   "execution_count": 6,
   "metadata": {
    "collapsed": false
   },
   "outputs": [],
   "source": [
    "random_seed = 42\n",
    "test_size = 0.20\n",
    "iterations = [1000,5000,10000]\n",
    "n_components = [10, 20, 29]\n",
    "penalty = ['l1','l2']\n",
    "Cs = np.logspace(-4, 4, 3)\n",
    "n_folds = 5\n",
    "param_dist_lasso = {\"pca__n_components\": n_components,\n",
    "              \"logistic__C\": Cs, \"logistic__penalty\":penalty, \"logistic__max_iter\":iterations}\n",
    "label_encoder = LabelEncoder()"
   ]
  },
  {
   "cell_type": "markdown",
   "metadata": {},
   "source": [
    "<body>Define the Pipeline. Do dimensionality reduction using PCA and apply logistic regression</body>"
   ]
  },
  {
   "cell_type": "code",
   "execution_count": 7,
   "metadata": {
    "collapsed": false
   },
   "outputs": [],
   "source": [
    "logistic = linear_model.LogisticRegression()\n",
    "pca = decomposition.PCA()\n",
    "pipe = Pipeline(steps=[('pca', pca), ('logistic', logistic)])"
   ]
  },
  {
   "cell_type": "markdown",
   "metadata": {},
   "source": [
    "Separate out the labels and drop the unnecessary columns"
   ]
  },
  {
   "cell_type": "code",
   "execution_count": 8,
   "metadata": {
    "collapsed": false
   },
   "outputs": [],
   "source": [
    "dataset = pd.read_csv('../../../data/processed_data.csv')\n",
    "labels = dataset[['like']]\n",
    "data = dataset.drop(['like','Unnamed: 0','player_id','subject_id'],axis=1)"
   ]
  },
  {
   "cell_type": "markdown",
   "metadata": {},
   "source": [
    "Apply Encoding to Categorical variables"
   ]
  },
  {
   "cell_type": "code",
   "execution_count": 9,
   "metadata": {
    "collapsed": false
   },
   "outputs": [],
   "source": [
    "def encode_features(df, encoder):\n",
    "        columnsToEncode = list(df.select_dtypes(include=['category','object']))\n",
    "        for feature in columnsToEncode:\n",
    "            try:\n",
    "                df[feature] = encoder.fit_transform(df[feature])\n",
    "            except:\n",
    "                print('Error encoding '+feature)\n",
    "        return df"
   ]
  },
  {
   "cell_type": "code",
   "execution_count": 10,
   "metadata": {
    "collapsed": true
   },
   "outputs": [],
   "source": [
    "def report(results, n_top=3):\n",
    "    for i in range(1, n_top + 1):\n",
    "        candidates = np.flatnonzero(results['rank_test_score'] == i)\n",
    "        for candidate in candidates:\n",
    "            print(\"Model with rank: {0}\".format(i))\n",
    "            print(\"Mean validation score: {0:.3f} (std: {1:.3f})\".format(\n",
    "                  results['mean_test_score'][candidate],\n",
    "                  results['std_test_score'][candidate]))\n",
    "            print(\"Parameters: {0}\".format(results['params'][candidate]))\n",
    "            print(\"\")"
   ]
  },
  {
   "cell_type": "markdown",
   "metadata": {},
   "source": [
    "Function for data preparation.\n",
    "- Encode the data\n",
    "- Divide the data into training and test set"
   ]
  },
  {
   "cell_type": "code",
   "execution_count": 11,
   "metadata": {
    "collapsed": false
   },
   "outputs": [],
   "source": [
    "def data_prep():\n",
    "    data_label_encoded = encode_features(data, label_encoder)\n",
    "    data_array = np.array(data_label_encoded)\n",
    "    label_array = np.array(labels)\n",
    "    X_train, X_test, y_train, y_test = train_test_split(data_array, labels, test_size=test_size, random_state=random_seed)\n",
    "    return X_train, X_test, y_train, y_test"
   ]
  },
  {
   "cell_type": "code",
   "execution_count": 13,
   "metadata": {
    "collapsed": false
   },
   "outputs": [],
   "source": [
    "def random_search(n_iter, parameters, clf):\n",
    "    n_iter_search = 2\n",
    "    random_search = RandomizedSearchCV(clf, param_distributions=param_dist,\n",
    "                                   n_iter=n_iter_search)\n",
    "    random_search.fit(X_train, y_train)\n",
    "    report(random_search.cv_results_)"
   ]
  },
  {
   "cell_type": "markdown",
   "metadata": {},
   "source": [
    "Run Grid Search with the parameters"
   ]
  },
  {
   "cell_type": "code",
   "execution_count": 14,
   "metadata": {
    "collapsed": false
   },
   "outputs": [],
   "source": [
    "X_train, X_test, y_train, y_test = data_prep()"
   ]
  },
  {
   "cell_type": "code",
   "execution_count": 18,
   "metadata": {
    "collapsed": true
   },
   "outputs": [],
   "source": [
    "grid_search = model_selection.GridSearchCV(estimator = pipe , \n",
    "                       param_grid = param_dist_lasso, scoring='roc_auc',n_jobs=4, cv=10)"
   ]
  },
  {
   "cell_type": "code",
   "execution_count": null,
   "metadata": {
    "collapsed": false
   },
   "outputs": [],
   "source": [
    "grid_search.fit(X_train, y_train.values.ravel())"
   ]
  },
  {
   "cell_type": "code",
   "execution_count": null,
   "metadata": {
    "collapsed": true
   },
   "outputs": [],
   "source": []
  }
 ],
 "metadata": {
  "kernelspec": {
   "display_name": "Python 3",
   "language": "python",
   "name": "python3"
  },
  "language_info": {
   "codemirror_mode": {
    "name": "ipython",
    "version": 3
   },
   "file_extension": ".py",
   "mimetype": "text/x-python",
   "name": "python",
   "nbconvert_exporter": "python",
   "pygments_lexer": "ipython3",
   "version": "3.6.0"
  }
 },
 "nbformat": 4,
 "nbformat_minor": 2
}
